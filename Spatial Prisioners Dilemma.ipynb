{
 "cells": [
  {
   "cell_type": "markdown",
   "metadata": {},
   "source": [
    "# Imports"
   ]
  },
  {
   "cell_type": "code",
   "execution_count": null,
   "metadata": {
    "collapsed": true
   },
   "outputs": [],
   "source": [
    "%matplotlib inline\n",
    "\n",
    "import random\n",
    "import math\n",
    "import numpy as np\n",
    "from axelrod import *\n",
    "import matplotlib.pyplot as plt\n",
    "import matplotlib.cm as cm\n",
    "import matplotlib.colors as colors\n",
    "\n",
    "from JSAnimation.IPython_display import display_animation\n",
    "\n",
    "from matplotlib import animation, rc\n",
    "from IPython.display import HTML"
   ]
  },
  {
   "cell_type": "markdown",
   "metadata": {},
   "source": [
    "# Agent class"
   ]
  },
  {
   "cell_type": "code",
   "execution_count": null,
   "metadata": {
    "collapsed": true
   },
   "outputs": [],
   "source": [
    "class Agent():\n",
    "    def __init__(self, position, strategy, score=-1):\n",
    "        self.position = position\n",
    "        self.strategy = strategy\n",
    "        self.score = score\n",
    "    def copy(self):\n",
    "        return Agent(self.position, self.strategy, self.score)"
   ]
  },
  {
   "cell_type": "markdown",
   "metadata": {},
   "source": [
    "# Strategies"
   ]
  },
  {
   "cell_type": "code",
   "execution_count": null,
   "metadata": {
    "collapsed": true
   },
   "outputs": [],
   "source": [
    "STRATEGIES = [\n",
    "    ('Defector', Defector()), \n",
    "    ('Cooperator', Cooperator()),\n",
    "    ('Tit For Tat', TitForTat()),\n",
    "    ('GTFT: 0.33', GTFT()),\n",
    "]\n",
    "STRATEGY_COLORS = [\"#e74c3c\", \"#2ecc71\", \"#2980b9\", \"#03A9F4\", \"#ffffff\"]#34495e\n",
    "# Red Green Blue Cyan Background"
   ]
  },
  {
   "cell_type": "markdown",
   "metadata": {},
   "source": [
    "# Filter functions"
   ]
  },
  {
   "cell_type": "code",
   "execution_count": null,
   "metadata": {
    "collapsed": true
   },
   "outputs": [],
   "source": [
    "def createKochCurve(matrix, iterationsLeft):\n",
    "    newMatrix = np.zeros((matrix.shape[0] * 3, matrix.shape[1] * 3))\n",
    "    for i in range(matrix.shape[0]):\n",
    "        for j in range(matrix.shape[1]):\n",
    "            if matrix[i, j] == True:\n",
    "                fillMatrix(newMatrix, i*3, j*3)\n",
    "    if iterationsLeft == 0:\n",
    "        return newMatrix\n",
    "    else:\n",
    "        return createKochCurve(newMatrix, iterationsLeft - 1)\n",
    "def fillMatrix(matrix, top, left):\n",
    "    matrix[top, left] = True\n",
    "    matrix[top, left + 2] = True\n",
    "    matrix[top + 1, left + 1] = True\n",
    "    matrix[top + 2, left] = True\n",
    "    matrix[top + 2, left + 2] = True\n",
    "\n",
    "circleFilterFunction = lambda coordinate, radius: (coordinate[0])**2 + (coordinate[1])**2 <= radius**2\n",
    "\n",
    "rectangleFilterFunction = lambda coordinate: True\n",
    "\n",
    "fiveCircleFilterFunction = lambda coordinate: circleFilterFunction(coordinate, 4)\n",
    "\n",
    "triangleFilterFuncion = lambda coordinate: ((coordinate[1] > 0) and\n",
    "                                            (coordinate[1] < coordinate[0]) and\n",
    "                                            (coordinate[1] < -coordinate[0] + 15))\n",
    "\n",
    "waveFilterFunction = lambda coordinate: coordinate[1] < math.sin(coordinate[0] / 3) * 7 + 8\n",
    "waveBiggerGapFilterFunction = lambda coordinate: coordinate[1] < math.sin(coordinate[0] / 2) * 8 + 11\n",
    "\n",
    "donutFilterFunction = lambda coordinate: circleFilterFunction(coordinate, 6) and not circleFilterFunction(coordinate, 3)\n",
    "\n",
    "squareHolesFilterFunction = lambda coordinate: not (coordinate[0] % 3 == 0 and coordinate[1] % 3 == 0)\n",
    "shortLinesSquareHolesFilterFunction = lambda coordinate: not (not coordinate[0] % 3 == 0 and not coordinate[1] % 3 == 0)\n",
    "\n",
    "kochCurve = createKochCurve(np.ones((1, 1)), 2)\n",
    "\n",
    "kochCurveFilterFunction = lambda coordinate: kochCurve[coordinate[0], coordinate[1]]\n",
    "\n",
    "lineFilterFunction = lambda coordinate: coordinate[0] == coordinate[1]\n",
    "\n",
    "# Testing createKochCurve\n",
    "#print(createKochCurve(np.ones((1, 1)), 1))"
   ]
  },
  {
   "cell_type": "markdown",
   "metadata": {},
   "source": [
    "# getAvailablePoints"
   ]
  },
  {
   "cell_type": "code",
   "execution_count": null,
   "metadata": {
    "collapsed": true
   },
   "outputs": [],
   "source": [
    "# @doc getAvailablePoints\n",
    "# returns the list of coordinates of every agent\n",
    "# @param   {Vector}   leftBottomCorner: defines the start of the environment\n",
    "# @param   {Vector}   rightTopCorner: defines the end of the environment\n",
    "# @param   {Function} filterFunction: defines the shape of the environment\n",
    "# @returns {[Vector]} points: coordinates of agents\n",
    "def getAvailablePoints(leftBottomCorner, rightTopCorner, filterfunction):\n",
    "    points = []\n",
    "    for xCoordinate in range(leftBottomCorner[0], rightTopCorner[0] + 1):\n",
    "        for yCoordinate in range(leftBottomCorner[1], rightTopCorner[1] + 1):\n",
    "            if filterfunction((xCoordinate, yCoordinate)):\n",
    "                points.append([xCoordinate, yCoordinate])\n",
    "    return points\n",
    "\n",
    "# Test that the function works by passing a circle filter function\n",
    "#print(getAvailablePoints([-2, -2], [2, 2], unitCircleFilterFunction))"
   ]
  },
  {
   "cell_type": "markdown",
   "metadata": {},
   "source": [
    "# populateGrid"
   ]
  },
  {
   "cell_type": "code",
   "execution_count": null,
   "metadata": {},
   "outputs": [],
   "source": [
    "# @doc populateGrid\n",
    "# creates agents from list of positions\n",
    "# @param   {[Vector]} individuals: list of coordinates\n",
    "# @returns {[Agent]}  population\n",
    "def populateGrid(individuals):\n",
    "    population = []\n",
    "    for i in range(len(individuals)):\n",
    "        index = random.randint(0, 3)\n",
    "        population.append(Agent(position = individuals[i], strategy = STRATEGIES[index][1]))\n",
    "    return population\n",
    "\n",
    "# Testing\n",
    "print(populateGrid([[0, 0], [1, 1], [2, 2]]))\n",
    "print(populateGrid([[0, 0], [1, 1], [2, 2]])[0].position)\n",
    "print(populateGrid([[0, 0], [1, 1], [2, 2]])[2].strategy)"
   ]
  },
  {
   "cell_type": "markdown",
   "metadata": {},
   "source": [
    "# newGeneration"
   ]
  },
  {
   "cell_type": "code",
   "execution_count": null,
   "metadata": {
    "slideshow": {
     "slide_type": "-"
    }
   },
   "outputs": [],
   "source": [
    "# @doc getneighbors\n",
    "# returns neighborhood of the given agent\n",
    "# @param   {[Agents]} individuals: population\n",
    "# @param   {Vector}   position\n",
    "# @returns {[Agents]} neighbors\n",
    "def getNeighbors(agents, position):\n",
    "    neighbors = []\n",
    "    (x,y) = position\n",
    "    possibilities = [[x-1, y-1], [x, y-1], [x+1, y-1], \n",
    "                       [x-1, y],           [x+1, y], \n",
    "                     [x-1, y+1], [x, y+1], [x+1, y+1]]\n",
    "    for possibility in possibilities:\n",
    "        # Check if possibility is inside individuals\n",
    "        agentEqualsPossibility = lambda agent: agent.position == possibility\n",
    "        equalAgentsList = list(filter(agentEqualsPossibility, agents))\n",
    "        if(not len(equalAgentsList) == 0):\n",
    "            neighbors.append(equalAgentsList[0])\n",
    "    return neighbors\n",
    "\n",
    "# Testing\n",
    "points = getAvailablePoints((0, 0), (1, 1), rectangleFilterFunction)\n",
    "individuals = populateGrid(points)\n",
    "neighborhood = getNeighbors(individuals, individuals[0].position)\n",
    "for i in neighborhood:\n",
    "    print(\"neighbor: \", i.position)\n",
    "    \n",
    "# @doc getStrategyByName\n",
    "def getStrategyByName(strategy):\n",
    "    for i in STRATEGIES:\n",
    "        if strategy == i[0]:\n",
    "            return i[1]\n",
    "\n",
    "# @doc newGeneration\n",
    "# Calculates the new state of the population\n",
    "# @param   {[Agents]} currentPopulation\n",
    "# @param   {Function}   evaluationStrategy:\n",
    "#                         - globalEvaluationStrategy (default):\n",
    "#                               calculate every fitness and then see the best strategy for each cell\n",
    "#                         - localEvaluationStrategy:\n",
    "#                               foreach cell create a neighborhood tournament and choose the winner\n",
    "# @returns {[Agents]} newPopulation\n",
    "def newGeneration(individuals, evaluationStrategy):\n",
    "    return evaluationStrategy(individuals)\n",
    "\n",
    "# Testing newGeneration\n",
    "print(\"newGenerationTesting\")\n",
    "print(\"currentPopulation: \", list(map(lambda individual: (individual.position, individual.strategy), individuals)))\n",
    "newPopulation = newGeneration(individuals, globalEvaluationStrategy)\n",
    "print(\"newPopulation: \", list(map(lambda individual: (individual.position, individual.strategy), newPopulation)))"
   ]
  },
  {
   "cell_type": "markdown",
   "metadata": {},
   "source": [
    "# Evaluation Strategies"
   ]
  },
  {
   "cell_type": "code",
   "execution_count": null,
   "metadata": {
    "collapsed": true
   },
   "outputs": [],
   "source": [
    "def localEvaluationStrategy(individuals):\n",
    "    newIndividuals = []\n",
    "    for individual in individuals:\n",
    "        tournamentResults = playTournamentWithNeighbors(individuals, individual)\n",
    "        summary = tournamentResults.summarise()\n",
    "        for player in summary:\n",
    "            if(player[0] == 0):\n",
    "                newIndividuals.append(Agent(individual.position,getStrategyByName(player[1])))\n",
    "                break\n",
    "    return newIndividuals\n",
    "\n",
    "def globalEvaluationStrategy(population):\n",
    "    newPopulation = []\n",
    "    populationWithScores = calculateScores(population)\n",
    "    \n",
    "    for agent in populationWithScores:\n",
    "        neighbors = getNeighbors(populationWithScores, agent.position)\n",
    "        bestAgent = max(neighbors + [agent], key = lambda individual: individual.score)\n",
    "        newAgent = agent.copy()\n",
    "        if bestAgent.score[0] > agent.score:\n",
    "            newAgent.strategy = bestAgent.strategy\n",
    "            print(bestAgent.score[0], agent.score)\n",
    "        newPopulation.append(newAgent)\n",
    "    \n",
    "    return newPopulation\n",
    "\n",
    "# @doc calculateScores\n",
    "# returns a population with updated scores\n",
    "# @param   {[Agent]} population\n",
    "# @returns {[Agent]} populationWithScores\n",
    "def calculateScores(population):\n",
    "    populationWithScores = []\n",
    "    for agent in population:\n",
    "        tournamentResults = playTournamentWithNeighbors(population, agent)\n",
    "        newAgent = agent.copy()\n",
    "        newAgent.score = tournamentResults.normalised_scores[0]\n",
    "        populationWithScores.append(newAgent)\n",
    "    return populationWithScores\n",
    "\n",
    "# @doc playTournamentWithNeighbors\n",
    "# plays a tournament between an agent and its neighbors\n",
    "# in a one vs all fashion\n",
    "# @param   {[Agent]}        population\n",
    "# @param   {Agent}          agent\n",
    "# @returns {axelrod.result} result\n",
    "def playTournamentWithNeighbors(population, agent):\n",
    "    neighbors = getNeighbors(population, agent.position)\n",
    "    neighborsStrategies = [individual.strategy for individual in neighbors]\n",
    "    edges = []\n",
    "    for i in range(len(neighbors)):\n",
    "        edges.append((0,i+1))\n",
    "    players = [agent.strategy] + neighborsStrategies\n",
    "    return Tournament(players, edges = edges, turns = 10, repetitions = 1).play()\n",
    "        "
   ]
  },
  {
   "cell_type": "markdown",
   "metadata": {},
   "source": [
    "# graphPopulation"
   ]
  },
  {
   "cell_type": "code",
   "execution_count": null,
   "metadata": {},
   "outputs": [],
   "source": [
    "# @doc getStrategyColor\n",
    "# returns a color for a strategy\n",
    "# @param {axl.Strategy} strategy\n",
    "# @returns {Integer} color\n",
    "def getStrategyColor(strategy):\n",
    "    for i in range(len(STRATEGIES)):\n",
    "        if(STRATEGIES[i][0] == str(strategy)):\n",
    "            return i\n",
    "\n",
    "# @doc graphPopulation\n",
    "# uses matplotlib to graph the population\n",
    "# @param {[Agent]} population\n",
    "def graphPopulation(population): # TODO: fix shapes that are not rectangles :)\n",
    "    positions = [agent.position for agent in population]\n",
    "    xPositions = [position[0] for position in positions]\n",
    "    yPositions = [position[1] for position in positions]\n",
    "    minXPosition = min(xPositions)\n",
    "    maxXPosition = max(xPositions)\n",
    "    minYPosition = min(yPositions)\n",
    "    maxYPosition = max(yPositions)\n",
    "    strategiesMatrix = np.zeros((maxXPosition - minXPosition + 1, maxYPosition - minYPosition + 1))\n",
    "    for i in range(minXPosition , maxXPosition + 1):\n",
    "        for j in range(minYPosition, maxYPosition + 1):\n",
    "            if not [i, j] in positions:\n",
    "                strategiesMatrix[i - minXPosition, j - minYPosition] = 4\n",
    "            else:\n",
    "                strategiesMatrix[i - minXPosition, j - minYPosition] = getStrategyColor(population[positions.index([i, j])].strategy)\n",
    "\n",
    "    cmap = colors.ListedColormap(STRATEGY_COLORS)\n",
    "    bounds = [-1,0.5,1.5,2.5,3.5, 4.5]\n",
    "    norm = colors.BoundaryNorm(bounds,cmap.N)    \n",
    "    plt.imshow(strategiesMatrix.T,extent=(minXPosition, maxXPosition, minYPosition, maxYPosition),cmap=cmap,norm=norm)\n",
    "    plt.show()\n",
    "    return strategiesMatrix.T\n",
    "    \n",
    "def drawReferences():\n",
    "    \n",
    "    cmap = colors.ListedColormap(STRATEGY_COLORS)\n",
    "    bounds = [-1,0.5,1.5,2.5,3.5, 4.5]\n",
    "    norm = colors.BoundaryNorm(bounds,cmap.N)    \n",
    "    \n",
    "    img = [[0],[1],[2],[3]]\n",
    "    plt.imshow(img,cmap = cmap,norm = norm)\n",
    "    font = 20\n",
    "    plt.text(0.6,0,STRATEGIES[0][0]).set_fontsize(font)\n",
    "    plt.text(0.6,1,STRATEGIES[1][0]).set_fontsize(font)\n",
    "    plt.text(0.6,2,STRATEGIES[2][0]).set_fontsize(font)\n",
    "    plt.text(0.6,3,STRATEGIES[3][0]).set_fontsize(font)\n",
    "    plt.show()\n",
    "\n",
    "\n",
    "# Testing graphPopulation\n",
    "points = getAvailablePoints((-10, -10), (15, 15), fiveCircleFilterFunction)\n",
    "population = populateGrid(points)\n",
    "graphPopulation(population)\n",
    "drawReferences()"
   ]
  },
  {
   "cell_type": "markdown",
   "metadata": {},
   "source": [
    "# Animation Function"
   ]
  },
  {
   "cell_type": "code",
   "execution_count": null,
   "metadata": {},
   "outputs": [],
   "source": [
    "def makeAnimation(array,frames):\n",
    "    size=(100,100)\n",
    "    num_colors = 3\n",
    "    A = array\n",
    "    X = array[0]\n",
    "    dpi = 10.\n",
    "    factor = 50\n",
    "\n",
    "    figsize = (X.shape[1] * factor / dpi , X.shape[0] * factor / dpi  )\n",
    "    \n",
    "    cmap = colors.ListedColormap(STRATEGY_COLORS)\n",
    "    bounds = [-1,0.5,1.5,2.5,3.5, 4.5]\n",
    "    norm = colors.BoundaryNorm(bounds,cmap.N)  \n",
    "    \n",
    "    fig = plt.figure(figsize=figsize, dpi=dpi)\n",
    "    ax = fig.add_axes([0, 0, 1, 1], xticks=[], yticks=[], frameon=False)\n",
    "    img = plt.imshow(X,cmap = cmap,norm=norm)\n",
    "\n",
    "    def init():\n",
    "        img.set_data(np.zeros(size))\n",
    "        return (img,)\n",
    "\n",
    "    # animation function.  This is called sequentially\n",
    "    def animate(i):\n",
    "        img.set_data(animate.X)\n",
    "        print('Making animation:', round((i/len(A))*100)+1,'%' )\n",
    "        animate.X = A[i]\n",
    "        return (img,)\n",
    "\n",
    "    animate.X = X\n",
    "\n",
    "\n",
    "    anim = animation.FuncAnimation(fig, animate, init_func=init,\n",
    "                                   frames=frames, interval=20, blit=True)\n",
    "    return anim\n",
    "\n",
    "# Testing makeAnimation\n",
    "A = [np.random.rand(10,10) for i in range(50)]\n",
    "\n",
    "anim = makeAnimation(A,5)\n",
    "display_animation(anim)"
   ]
  },
  {
   "cell_type": "markdown",
   "metadata": {},
   "source": [
    "# getAverageNeighbors"
   ]
  },
  {
   "cell_type": "code",
   "execution_count": null,
   "metadata": {},
   "outputs": [],
   "source": [
    "def getAverageNeighbors(filterFunction):\n",
    "    points = getAvailablePoints((-10, -10), (15, 15), filterFunction)\n",
    "    population = populateGrid(points) # appends the strategies\n",
    "    \n",
    "    totalNeighbors = 0\n",
    "    \n",
    "    for agent in population:\n",
    "        neighbors = getNeighbors(population, agent.position)\n",
    "        totalNeighbors += len(neighbors)\n",
    "    return totalNeighbors / len(points)\n",
    "\n",
    "print(getAverageNeighbors(fiveCircleFilterFunction))"
   ]
  },
  {
   "cell_type": "markdown",
   "metadata": {},
   "source": [
    "# Main function"
   ]
  },
  {
   "cell_type": "code",
   "execution_count": null,
   "metadata": {
    "scrolled": false
   },
   "outputs": [],
   "source": [
    "### @doc runSimulation\n",
    "# runs the environment\n",
    "# @param  {Function} filterFunction: defines the shape of the environment\n",
    "# @param  {Vector}   leftBottomCorner: defines the start of the environment\n",
    "# @param  {Vector}   rightTopCorner: defines the end of the environment\n",
    "# @param  {Int}      iterations: number of iterations to run the environment\n",
    "# @return {[Agent]}  population: the population after runing the environment\n",
    "\n",
    "pictures = []\n",
    "def runSimulation(filterFunction, leftBottomCorner, rightTopCorner, iterations, evaluationStrategy = globalEvaluationStrategy):\n",
    "    points = getAvailablePoints(leftBottomCorner, rightTopCorner, filterFunction)\n",
    "    population = populateGrid(points) # appends the strategies\n",
    "    graphPopulation(population)\n",
    "    for i in range(iterations):\n",
    "        population = newGeneration(population, evaluationStrategy)\n",
    "        pictures.append(graphPopulation(population))\n",
    "    \n",
    "    return population\n",
    "\n",
    "# Testing runSimulation\n",
    "#for agent in runSimulation(fiveCircleFilterFunction, (-5, -5), (5, 5), 2):\n",
    "    #print(agent.position, agent.strategy)\n",
    "runSimulation(fiveCircleFilterFunction, (-5, -5), (5, 5), 20)\n",
    "anim = makeAnimation(pictures, 20)\n",
    "#drawReferences()\n",
    "display_animation(anim)"
   ]
  },
  {
   "cell_type": "code",
   "execution_count": null,
   "metadata": {
    "collapsed": true
   },
   "outputs": [],
   "source": []
  }
 ],
 "metadata": {
  "kernelspec": {
   "display_name": "Python 3",
   "language": "python",
   "name": "python3"
  },
  "language_info": {
   "codemirror_mode": {
    "name": "ipython",
    "version": 3
   },
   "file_extension": ".py",
   "mimetype": "text/x-python",
   "name": "python",
   "nbconvert_exporter": "python",
   "pygments_lexer": "ipython3",
   "version": "3.6.1"
  }
 },
 "nbformat": 4,
 "nbformat_minor": 2
}
